{
 "cells": [
  {
   "cell_type": "markdown",
   "id": "a4317a8f",
   "metadata": {},
   "source": [
    "LABORATORIO\n",
    "Text Mining & Image Recognition\n",
    "HOJA NÚMERO 3\n",
    "\n",
    "INTEGRANTES:\n"
   ]
  },
  {
   "cell_type": "markdown",
   "id": "31657a70",
   "metadata": {},
   "source": [
    "CINDY MAGALY GUTIERREZ MENDEZ   CARNÉ: 20016132"
   ]
  },
  {
   "cell_type": "markdown",
   "id": "5da80b5d",
   "metadata": {},
   "source": [
    "EDGAR ERNESTO CRISTAL COYOY     CARNÉ: 22007686"
   ]
  },
  {
   "cell_type": "markdown",
   "id": "bf1d4f9f",
   "metadata": {},
   "source": [
    "PROBLEMA 1"
   ]
  },
  {
   "cell_type": "code",
   "execution_count": 12,
   "id": "06a1c451",
   "metadata": {},
   "outputs": [
    {
     "name": "stdout",
     "output_type": "stream",
     "text": [
      "Guate.360-porelmundo@miguate.com es una dirección de correo electrónico VÁLIDA.\n",
      "Miercoles3@hotmail.com es una dirección de correo electrónico VÁLIDA.\n",
      "Progra3.galileo@galileo.edu es una dirección de correo electrónico VÁLIDA.\n"
     ]
    }
   ],
   "source": [
    "# Númeral 1\n",
    "\n",
    "import re\n",
    "\n",
    "# Expresión regular para validación de correo electronico:\n",
    "\n",
    "regex = r\"^[a-zA-Z0-9._%+-]+@[a-zA-Z0-9.-]+\\.[a-zA-Z]{2,}$\"\n",
    "\n",
    "# Direcciones de correo electrónico\n",
    "\n",
    "correos = [\"Guate.360-porelmundo@miguate.com\",\n",
    "          \"Miercoles3@hotmail.com\",\n",
    "          \"Progra3.galileo@galileo.edu\"]\n",
    "\n",
    "for correo in correos:\n",
    "    if re.match(regex, correo):\n",
    "        print(f\"{correo} es una dirección de correo electrónico VÁLIDA.\")\n",
    "    else:\n",
    "        print(f\"{correo} es una dirección de correo electrónico INVALIDA.\")\n"
   ]
  },
  {
   "cell_type": "code",
   "execution_count": 18,
   "id": "cdaf5576",
   "metadata": {},
   "outputs": [
    {
     "name": "stdout",
     "output_type": "stream",
     "text": [
      "https://www.guate360-porelmundo.com es una dirección URL VÁLIDA.\n",
      "http://www.a2.net es una dirección URL INVALIDA.\n",
      "https://www.galileo.edu es una dirección URL VÁLIDA.\n",
      "http://www.8.org es una dirección URL VÁLIDA.\n"
     ]
    }
   ],
   "source": [
    "# Númeral 2\n",
    "\n",
    "import re\n",
    "\n",
    "# Expresión regular para validación de direcciones URL con dominios .com, .org o .edu\n",
    "\n",
    "regex = r\"^(https?://www\\.)[a-zA-Z0-9.-]+\\.(com|org|edu)$\"\n",
    "\n",
    "# Direcciones URL\n",
    "\n",
    "urls = [\n",
    "    \"https://www.guate360-porelmundo.com\",\n",
    "    \"http://www.a2.net\",\n",
    "    \"https://www.galileo.edu\",\n",
    "    \"http://www.8.org\"\n",
    "]\n",
    "\n",
    "for url in urls:\n",
    "    if re.match(regex, url):\n",
    "        print(f\"{url} es una dirección URL VÁLIDA.\")\n",
    "    else:\n",
    "        print(f\"{url} es una dirección URL INVALIDA.\")\n",
    "\n"
   ]
  },
  {
   "cell_type": "code",
   "execution_count": 29,
   "id": "7101f5d3",
   "metadata": {},
   "outputs": [
    {
     "name": "stdout",
     "output_type": "stream",
     "text": [
      "5A:6F:AF:8C:9B:1D es una dirección MAC VÁLIDA.\n",
      "6D:6C:4D:3A:EB:3F es una dirección MAC VÁLIDA.\n",
      "3A:7C:FA:C8:6D:4J es una dirección MAC INVALIDA.\n"
     ]
    }
   ],
   "source": [
    "# Númeral 3\n",
    "\n",
    "import re\n",
    "\n",
    "# Expresión regular para validación direcciones MAC\n",
    "\n",
    "regex = r'^([0-9A-Fa-f]{2}[:-]){5}[0-9A-Fa-f]{2}$'\n",
    "\n",
    "# Direcciones MAC\n",
    "\n",
    "mac_addresses = [\n",
    "    \"5A:6F:AF:8C:9B:1D\",\n",
    "    \"6D:6C:4D:3A:EB:3F\",\n",
    "    \"3A:7C:FA:C8:6D:4J\",\n",
    "    ]\n",
    "\n",
    "for mac in mac_addresses:\n",
    "    if re.match(regex, mac):\n",
    "        print(f\"{mac} es una dirección MAC VÁLIDA.\")\n",
    "    else:\n",
    "        print(f\"{mac} es una dirección MAC INVALIDA.\")\n"
   ]
  },
  {
   "cell_type": "code",
   "execution_count": 36,
   "id": "f89882b1",
   "metadata": {},
   "outputs": [
    {
     "name": "stdout",
     "output_type": "stream",
     "text": [
      "192.16.8.1 es una dirección IPv4 VÁLIDA.\n",
      "234.56.78.90 es una dirección IPv4 VÁLIDA.\n",
      "1.2.3.4 es una dirección IPv4 VÁLIDA.\n",
      "192.168.45.345 es una dirección IPv4 INVALIDA.\n"
     ]
    }
   ],
   "source": [
    "# Númeral 4\n",
    "\n",
    "import re\n",
    "\n",
    "# Expresión regular para validación direcciones IPv4\n",
    "\n",
    "regex = r'^(25[0-5]|2[0-4][0-9]|[01]?[0-9][0-9]?)\\.(25[0-5]|2[0-4][0-9]|[01]?[0-9][0-9]?)\\.(25[0-5]|2[0-4][0-9]|[01]?[0-9][0-9]?)\\.(25[0-5]|2[0-4][0-9]|[01]?[0-9][0-9]?)$'\n",
    "\n",
    "# Direcciones IPv4\n",
    "\n",
    "ip_direcciones = [\n",
    "    \"192.16.8.1\",\n",
    "    \"234.56.78.90\",\n",
    "    \"1.2.3.4\",\n",
    "    \"192.168.45.345\",  # No válida (el bloque es mayor a 255)\n",
    "]\n",
    "\n",
    "for ip in ip_direcciones:\n",
    "    if re.match(regex, ip):\n",
    "        print(f\"{ip} es una dirección IPv4 VÁLIDA.\")\n",
    "    else:\n",
    "        print(f\"{ip} es una dirección IPv4 INVALIDA.\")"
   ]
  },
  {
   "cell_type": "code",
   "execution_count": 45,
   "id": "ae3b05d1",
   "metadata": {},
   "outputs": [
    {
     "name": "stdout",
     "output_type": "stream",
     "text": [
      "20/1/2019 es una fecha VÁLIDA.\n",
      "12.03.2005 es una fecha VÁLIDA.\n",
      "31-11-08 es una fecha INVALIDA.\n",
      "1-1-2012 es una fecha VÁLIDA.\n",
      "12-12-22 es una fecha INVALIDA.\n"
     ]
    }
   ],
   "source": [
    "# Númeral 5\n",
    "\n",
    "import re\n",
    "\n",
    "# Expresión regular para validar fechas\n",
    "regex = r'^(0?[1-9]|[12][0-9]|3[01])[-/.](0?[1-9]|1[0-2])[-/.](20\\d{2}|2\\d{3})$'\n",
    "\n",
    "# Ejemplos de fechas\n",
    "fechas = [\n",
    "    \"20/1/2019\",\n",
    "    \"12.03.2005\",\n",
    "    \"31-11-08\",  # INVALIDA (noviembre tiene 30 días)\n",
    "    \"1-1-2012\",\n",
    "    \"12-12-22\",  # INVALIDA (año está FUERA del rango)\n",
    "]\n",
    "\n",
    "for fecha in fechas:\n",
    "    if re.match(regex, fecha):\n",
    "        print(f\"{fecha} es una fecha VÁLIDA.\")\n",
    "    else:\n",
    "        print(f\"{fecha} es una fecha INVALIDA.\")"
   ]
  },
  {
   "cell_type": "markdown",
   "id": "d309810a",
   "metadata": {},
   "source": [
    "PROBLEMA 2"
   ]
  },
  {
   "cell_type": "code",
   "execution_count": 1,
   "id": "33fe472a",
   "metadata": {},
   "outputs": [
    {
     "name": "stdout",
     "output_type": "stream",
     "text": [
      "Día promedio: 10584.52\n",
      "Mes promedio: 4380.52\n",
      "Año promedio: 1366142.74\n"
     ]
    }
   ],
   "source": [
    "import re\n",
    "from collections import defaultdict\n",
    "\n",
    "# Expresión regular validar fechas en diferentes formatos\n",
    "\n",
    "date_regex = r'(\\d{1,2}|Jan|Feb|Mar|Apr|May|Jun|Jul|Aug|Sep|Oct|Nov|Dec)[/.-](\\d{1,2}|Jan|Feb|Mar|Apr|May|Jun|Jul|Aug|Sep|Oct|Nov|Dec)[/.-](\\d{2,4})'\n",
    "\n",
    "# Creación de diccionario para almacenamiento de: conteos de días, meses y años\n",
    "\n",
    "day_count = defaultdict(int)\n",
    "month_count = defaultdict(int)\n",
    "year_count = defaultdict(int)\n",
    "\n",
    "# Lectura de archivos (21 documentos) y buscar fechas\n",
    "\n",
    "for i in range(1, 22):  \n",
    "    with open(f'D{i}.txt', 'r') as file:\n",
    "        text = file.read()\n",
    "        dates = re.findall(date_regex, text)\n",
    "        \n",
    "        for date in dates:\n",
    "            day, month, year = date\n",
    "            if month.isdigit():\n",
    "                month = int(month)\n",
    "            else:\n",
    "               \n",
    "    # Mapeo de nombres de meses en inglés a números\n",
    "    \n",
    "                month = {\n",
    "                    'Jan': 1, 'Feb': 2, 'Mar': 3, 'Apr': 4, 'May': 5, 'Jun': 6,\n",
    "                    'Jul': 7, 'Aug': 8, 'Sep': 9, 'Oct': 10, 'Nov': 11, 'Dec': 12\n",
    "                }[month]\n",
    "            \n",
    "            year = int(year)\n",
    "            \n",
    "            day_count[day] += 1\n",
    "            month_count[month] += 1\n",
    "            year_count[year] += 1\n",
    "\n",
    "# Calculo del promedio de días, meses y años\n",
    "\n",
    "total_dates = len(day_count)\n",
    "average_day = sum(int(day) * count for day, count in day_count.items()) / total_dates\n",
    "average_month = sum(month * count for month, count in month_count.items()) / total_dates\n",
    "average_year = sum(year * count for year, count in year_count.items()) / total_dates\n",
    "\n",
    "print(f\"Día promedio: {average_day:.2f}\")\n",
    "print(f\"Mes promedio: {average_month:.2f}\")\n",
    "print(f\"Año promedio: {average_year:.2f}\")"
   ]
  }
 ],
 "metadata": {
  "kernelspec": {
   "display_name": "Python 3 (ipykernel)",
   "language": "python",
   "name": "python3"
  },
  "language_info": {
   "codemirror_mode": {
    "name": "ipython",
    "version": 3
   },
   "file_extension": ".py",
   "mimetype": "text/x-python",
   "name": "python",
   "nbconvert_exporter": "python",
   "pygments_lexer": "ipython3",
   "version": "3.9.13"
  }
 },
 "nbformat": 4,
 "nbformat_minor": 5
}
